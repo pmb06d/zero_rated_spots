{
  "nbformat": 4,
  "nbformat_minor": 0,
  "metadata": {
    "colab": {
      "name": "P&G Zero Rated Spots.ipynb",
      "provenance": [],
      "collapsed_sections": [],
      "include_colab_link": true
    },
    "kernelspec": {
      "name": "python3",
      "display_name": "Python 3"
    }
  },
  "cells": [
    {
      "cell_type": "markdown",
      "metadata": {
        "id": "view-in-github",
        "colab_type": "text"
      },
      "source": [
        "<a href=\"https://colab.research.google.com/github/pmb06d/zero_rated_spots/blob/master/P%26G_Zero_Rated_Spots.ipynb\" target=\"_parent\"><img src=\"https://colab.research.google.com/assets/colab-badge.svg\" alt=\"Open In Colab\"/></a>"
      ]
    },
    {
      "cell_type": "markdown",
      "metadata": {
        "id": "RRw2GkTeF1yb",
        "colab_type": "text"
      },
      "source": [
        "## Set up the Google Drive Client"
      ]
    },
    {
      "cell_type": "code",
      "metadata": {
        "id": "IuXeY_AuFzME",
        "colab_type": "code",
        "colab": {}
      },
      "source": [
        "!pip install -U -q PyDrive\n",
        "\n",
        "from pydrive.auth import GoogleAuth\n",
        "from pydrive.drive import GoogleDrive\n",
        "from google.colab import auth\n",
        "from oauth2client.client import GoogleCredentials\n",
        "from googleapiclient.http import MediaFileUpload\n",
        "from googleapiclient.discovery import build\n",
        "\n",
        "# Authenticate and create the PyDrive client.\n",
        "auth.authenticate_user()\n",
        "gauth = GoogleAuth()\n",
        "gauth.credentials = GoogleCredentials.get_application_default()\n",
        "drive = GoogleDrive(gauth)"
      ],
      "execution_count": 0,
      "outputs": []
    },
    {
      "cell_type": "code",
      "metadata": {
        "id": "CBecvEklGLsj",
        "colab_type": "code",
        "colab": {}
      },
      "source": [
        "import os\n",
        "\n",
        "# choose a local (colab) directory to store the data.\n",
        "local_download_path = os.path.expanduser('~/data')\n",
        "try:\n",
        "  os.makedirs(local_download_path)\n",
        "except: pass\n",
        "\n",
        "# This ID below is the code for the folder\n",
        "file_list = drive.ListFile(\n",
        "    {'q': \"'1FbRkOGDnGfeAxIgAI-rY7L-d75nQDI2W' in parents\"}).GetList()\n"
      ],
      "execution_count": 0,
      "outputs": []
    },
    {
      "cell_type": "code",
      "metadata": {
        "id": "Q5ASGpBnHwLH",
        "colab_type": "code",
        "outputId": "9a46e2ba-703e-4e46-e7d2-ff3547db1a36",
        "colab": {
          "base_uri": "https://localhost:8080/",
          "height": 34
        }
      },
      "source": [
        "# Get a list of the file names for display\n",
        "\n",
        "titles = [file['title'] for file in file_list]\n",
        "print('There are',str(len(titles)),'files')"
      ],
      "execution_count": 0,
      "outputs": [
        {
          "output_type": "stream",
          "text": [
            "There are 625 files\n"
          ],
          "name": "stdout"
        }
      ]
    },
    {
      "cell_type": "code",
      "metadata": {
        "id": "gtIkgzudPqTZ",
        "colab_type": "code",
        "colab": {}
      },
      "source": [
        "# we need a list of IDs\n",
        "\n",
        "# The shareable link\n",
        "\n",
        "import pandas as pd\n",
        "\n",
        "id_list = [file['id'] for file in file_list]\n",
        "\n",
        "temp = pd.DataFrame(list(zip(id_list,titles)))\n",
        "\n",
        "accept = []\n",
        "reject = []\n",
        "\n",
        "for elem in titles:\n",
        "    if str(elem).endswith('.txt'):\n",
        "        accept.append(elem)\n",
        "    else:\n",
        "        reject.append(elem)\n",
        "        \n",
        "id_list = list(temp.loc[temp[1].isin(accept),0])"
      ],
      "execution_count": 0,
      "outputs": []
    },
    {
      "cell_type": "code",
      "metadata": {
        "id": "KODuJ1vNQ45d",
        "colab_type": "code",
        "outputId": "a8505189-1797-4590-d3be-93609d591431",
        "colab": {
          "base_uri": "https://localhost:8080/",
          "height": 51
        }
      },
      "source": [
        "import pandas as pd\n",
        "import time\n",
        "\n",
        "start_time = time.time()\n",
        "\n",
        "df_list = []\n",
        "\n",
        "for id in id_list:\n",
        "  # Storing the file into a dataframe\n",
        "  downloaded = drive.CreateFile({'id':id}) \n",
        "  downloaded.GetContentFile('Filename.csv')  \n",
        "  df = pd.read_csv('Filename.csv', sep = ';',encoding='latin1' )\n",
        "  df_list.append(df)\n",
        "  \n",
        "print(\"--- %s seconds ---\" % (time.time() - start_time),'\\n')"
      ],
      "execution_count": 0,
      "outputs": [
        {
          "output_type": "stream",
          "text": [
            "--- 420.6923232078552 seconds --- \n",
            "\n"
          ],
          "name": "stdout"
        }
      ]
    },
    {
      "cell_type": "code",
      "metadata": {
        "id": "4bQd2kq-RfKp",
        "colab_type": "code",
        "outputId": "91285024-c4bc-4a04-d76c-a0e7af526b93",
        "colab": {
          "base_uri": "https://localhost:8080/",
          "height": 34
        }
      },
      "source": [
        "full_df = pd.concat(df_list, ignore_index=True)\n",
        "\n",
        "full_df.shape"
      ],
      "execution_count": 0,
      "outputs": [
        {
          "output_type": "execute_result",
          "data": {
            "text/plain": [
              "(36600000, 7)"
            ]
          },
          "metadata": {
            "tags": []
          },
          "execution_count": 6
        }
      ]
    },
    {
      "cell_type": "code",
      "metadata": {
        "id": "XpRX3xHWLEFs",
        "colab_type": "code",
        "outputId": "1e45c60c-0758-4f18-a258-bb157ef8bd04",
        "colab": {
          "base_uri": "https://localhost:8080/",
          "height": 34
        }
      },
      "source": [
        "list(full_df)"
      ],
      "execution_count": 0,
      "outputs": [
        {
          "output_type": "execute_result",
          "data": {
            "text/plain": [
              "[' ', 'Region', 'Target', 'Channel', 'Date', 'TimeBand', 'Rat% {Av(Wg)}']"
            ]
          },
          "metadata": {
            "tags": []
          },
          "execution_count": 7
        }
      ]
    },
    {
      "cell_type": "code",
      "metadata": {
        "id": "A3VzSFd8Uvwg",
        "colab_type": "code",
        "outputId": "952e0f43-97b5-4801-b342-1dd4b1f3152a",
        "colab": {
          "base_uri": "https://localhost:8080/",
          "height": 221
        }
      },
      "source": [
        "# They are all strings we need to clean this\n",
        "full_df.info()"
      ],
      "execution_count": 0,
      "outputs": [
        {
          "output_type": "stream",
          "text": [
            "<class 'pandas.core.frame.DataFrame'>\n",
            "RangeIndex: 36600000 entries, 0 to 36599999\n",
            "Data columns (total 7 columns):\n",
            "                 int64\n",
            "Region           object\n",
            "Target           object\n",
            "Channel          object\n",
            "Date             object\n",
            "TimeBand         object\n",
            "Rat% {Av(Wg)}    float64\n",
            "dtypes: float64(1), int64(1), object(5)\n",
            "memory usage: 1.9+ GB\n"
          ],
          "name": "stdout"
        }
      ]
    },
    {
      "cell_type": "code",
      "metadata": {
        "id": "LFquJIzMTldO",
        "colab_type": "code",
        "outputId": "d835de53-6726-44a2-d85b-76a0e2211878",
        "colab": {
          "base_uri": "https://localhost:8080/",
          "height": 204
        }
      },
      "source": [
        "full_df.head()"
      ],
      "execution_count": 0,
      "outputs": [
        {
          "output_type": "execute_result",
          "data": {
            "text/html": [
              "<div>\n",
              "<style scoped>\n",
              "    .dataframe tbody tr th:only-of-type {\n",
              "        vertical-align: middle;\n",
              "    }\n",
              "\n",
              "    .dataframe tbody tr th {\n",
              "        vertical-align: top;\n",
              "    }\n",
              "\n",
              "    .dataframe thead th {\n",
              "        text-align: right;\n",
              "    }\n",
              "</style>\n",
              "<table border=\"1\" class=\"dataframe\">\n",
              "  <thead>\n",
              "    <tr style=\"text-align: right;\">\n",
              "      <th></th>\n",
              "      <th></th>\n",
              "      <th>Region</th>\n",
              "      <th>Target</th>\n",
              "      <th>Channel</th>\n",
              "      <th>Date</th>\n",
              "      <th>TimeBand</th>\n",
              "      <th>Rat% {Av(Wg)}</th>\n",
              "    </tr>\n",
              "  </thead>\n",
              "  <tbody>\n",
              "    <tr>\n",
              "      <th>0</th>\n",
              "      <td>1</td>\n",
              "      <td>PAN</td>\n",
              "      <td>Pay-Subs&amp;Comm_P18-49</td>\n",
              "      <td>Cinemax</td>\n",
              "      <td>Mon Jan 01, 2018</td>\n",
              "      <td>06:00:00 - 07:00:00</td>\n",
              "      <td>0.048590</td>\n",
              "    </tr>\n",
              "    <tr>\n",
              "      <th>1</th>\n",
              "      <td>2</td>\n",
              "      <td>PAN</td>\n",
              "      <td>Pay-Subs&amp;Comm_P18-49</td>\n",
              "      <td>Cinemax</td>\n",
              "      <td>Mon Jan 01, 2018</td>\n",
              "      <td>07:00:00 - 08:00:00</td>\n",
              "      <td>0.039990</td>\n",
              "    </tr>\n",
              "    <tr>\n",
              "      <th>2</th>\n",
              "      <td>3</td>\n",
              "      <td>PAN</td>\n",
              "      <td>Pay-Subs&amp;Comm_P18-49</td>\n",
              "      <td>Cinemax</td>\n",
              "      <td>Mon Jan 01, 2018</td>\n",
              "      <td>08:00:00 - 09:00:00</td>\n",
              "      <td>0.038025</td>\n",
              "    </tr>\n",
              "    <tr>\n",
              "      <th>3</th>\n",
              "      <td>4</td>\n",
              "      <td>PAN</td>\n",
              "      <td>Pay-Subs&amp;Comm_P18-49</td>\n",
              "      <td>Cinemax</td>\n",
              "      <td>Mon Jan 01, 2018</td>\n",
              "      <td>09:00:00 - 10:00:00</td>\n",
              "      <td>0.065623</td>\n",
              "    </tr>\n",
              "    <tr>\n",
              "      <th>4</th>\n",
              "      <td>5</td>\n",
              "      <td>PAN</td>\n",
              "      <td>Pay-Subs&amp;Comm_P18-49</td>\n",
              "      <td>Cinemax</td>\n",
              "      <td>Mon Jan 01, 2018</td>\n",
              "      <td>10:00:00 - 11:00:00</td>\n",
              "      <td>0.042717</td>\n",
              "    </tr>\n",
              "  </tbody>\n",
              "</table>\n",
              "</div>"
            ],
            "text/plain": [
              "     Region  ...             TimeBand Rat% {Av(Wg)}\n",
              "0  1    PAN  ...  06:00:00 - 07:00:00      0.048590\n",
              "1  2    PAN  ...  07:00:00 - 08:00:00      0.039990\n",
              "2  3    PAN  ...  08:00:00 - 09:00:00      0.038025\n",
              "3  4    PAN  ...  09:00:00 - 10:00:00      0.065623\n",
              "4  5    PAN  ...  10:00:00 - 11:00:00      0.042717\n",
              "\n",
              "[5 rows x 7 columns]"
            ]
          },
          "metadata": {
            "tags": []
          },
          "execution_count": 9
        }
      ]
    },
    {
      "cell_type": "code",
      "metadata": {
        "id": "5KstVtuuTrv4",
        "colab_type": "code",
        "colab": {}
      },
      "source": [
        "def get_start(timeband):\n",
        "  temp_list = timeband.replace(' ','').split('-')\n",
        "  start_time = temp_list[0][:5]\n",
        "  return(start_time)\n",
        "\n",
        "def get_label(timeband):\n",
        "  temp_list = timeband.replace(' ','').split('-')\n",
        "\n",
        "  start_time = temp_list[0].split(':')\n",
        "  start_time = (int(start_time[0])*60)+int(start_time[1])\n",
        "\n",
        "  end_time = temp_list[1].split(':')\n",
        "  end_time = (int(end_time[0])*60)+int(end_time[1])\n",
        "\n",
        "  label = str(int(end_time-start_time))+' minute(s)'\n",
        "  return(label)\n",
        "\n",
        "# add the custom timebands\n",
        "\n",
        "def identify_cinemaxtb(timeband):\n",
        "      temp_list = timeband.replace(' ','').split('-')\n",
        "      start_hour = int(temp_list[0][:1])\n",
        "\n",
        "      if start_hour < 13:\n",
        "        return('Morning')\n",
        "      elif start_hour < 16:\n",
        "        return('Afternoon')\n",
        "      elif start_hour < 26:\n",
        "        return('Primetime')\n",
        "      else:\n",
        "        return('Late')"
      ],
      "execution_count": 0,
      "outputs": []
    },
    {
      "cell_type": "code",
      "metadata": {
        "id": "skhoD4svDc8K",
        "colab_type": "code",
        "outputId": "90521635-d0b6-4ac3-e25e-8f235d8c2913",
        "colab": {
          "base_uri": "https://localhost:8080/",
          "height": 204
        }
      },
      "source": [
        "full_df['Start time'] = full_df['TimeBand'].apply(get_start)\n",
        "full_df['Interval'] = full_df['TimeBand'].apply(get_label)\n",
        "full_df['ROS TimeBands'] = full_df['TimeBand'].apply(identify_cinemaxtb)\n",
        "\n",
        "full_df.head()"
      ],
      "execution_count": 0,
      "outputs": [
        {
          "output_type": "execute_result",
          "data": {
            "text/html": [
              "<div>\n",
              "<style scoped>\n",
              "    .dataframe tbody tr th:only-of-type {\n",
              "        vertical-align: middle;\n",
              "    }\n",
              "\n",
              "    .dataframe tbody tr th {\n",
              "        vertical-align: top;\n",
              "    }\n",
              "\n",
              "    .dataframe thead th {\n",
              "        text-align: right;\n",
              "    }\n",
              "</style>\n",
              "<table border=\"1\" class=\"dataframe\">\n",
              "  <thead>\n",
              "    <tr style=\"text-align: right;\">\n",
              "      <th></th>\n",
              "      <th></th>\n",
              "      <th>Region</th>\n",
              "      <th>Target</th>\n",
              "      <th>Channel</th>\n",
              "      <th>Date</th>\n",
              "      <th>TimeBand</th>\n",
              "      <th>Rat% {Av(Wg)}</th>\n",
              "      <th>Start time</th>\n",
              "      <th>Interval</th>\n",
              "      <th>ROS TimeBands</th>\n",
              "    </tr>\n",
              "  </thead>\n",
              "  <tbody>\n",
              "    <tr>\n",
              "      <th>0</th>\n",
              "      <td>1</td>\n",
              "      <td>PAN</td>\n",
              "      <td>Pay-Subs&amp;Comm_P18-49</td>\n",
              "      <td>Cinemax</td>\n",
              "      <td>Mon Jan 01, 2018</td>\n",
              "      <td>06:00:00 - 07:00:00</td>\n",
              "      <td>0.048590</td>\n",
              "      <td>06:00</td>\n",
              "      <td>60 minute(s)</td>\n",
              "      <td>Morning</td>\n",
              "    </tr>\n",
              "    <tr>\n",
              "      <th>1</th>\n",
              "      <td>2</td>\n",
              "      <td>PAN</td>\n",
              "      <td>Pay-Subs&amp;Comm_P18-49</td>\n",
              "      <td>Cinemax</td>\n",
              "      <td>Mon Jan 01, 2018</td>\n",
              "      <td>07:00:00 - 08:00:00</td>\n",
              "      <td>0.039990</td>\n",
              "      <td>07:00</td>\n",
              "      <td>60 minute(s)</td>\n",
              "      <td>Morning</td>\n",
              "    </tr>\n",
              "    <tr>\n",
              "      <th>2</th>\n",
              "      <td>3</td>\n",
              "      <td>PAN</td>\n",
              "      <td>Pay-Subs&amp;Comm_P18-49</td>\n",
              "      <td>Cinemax</td>\n",
              "      <td>Mon Jan 01, 2018</td>\n",
              "      <td>08:00:00 - 09:00:00</td>\n",
              "      <td>0.038025</td>\n",
              "      <td>08:00</td>\n",
              "      <td>60 minute(s)</td>\n",
              "      <td>Morning</td>\n",
              "    </tr>\n",
              "    <tr>\n",
              "      <th>3</th>\n",
              "      <td>4</td>\n",
              "      <td>PAN</td>\n",
              "      <td>Pay-Subs&amp;Comm_P18-49</td>\n",
              "      <td>Cinemax</td>\n",
              "      <td>Mon Jan 01, 2018</td>\n",
              "      <td>09:00:00 - 10:00:00</td>\n",
              "      <td>0.065623</td>\n",
              "      <td>09:00</td>\n",
              "      <td>60 minute(s)</td>\n",
              "      <td>Morning</td>\n",
              "    </tr>\n",
              "    <tr>\n",
              "      <th>4</th>\n",
              "      <td>5</td>\n",
              "      <td>PAN</td>\n",
              "      <td>Pay-Subs&amp;Comm_P18-49</td>\n",
              "      <td>Cinemax</td>\n",
              "      <td>Mon Jan 01, 2018</td>\n",
              "      <td>10:00:00 - 11:00:00</td>\n",
              "      <td>0.042717</td>\n",
              "      <td>10:00</td>\n",
              "      <td>60 minute(s)</td>\n",
              "      <td>Morning</td>\n",
              "    </tr>\n",
              "  </tbody>\n",
              "</table>\n",
              "</div>"
            ],
            "text/plain": [
              "     Region                Target  ... Start time      Interval ROS TimeBands\n",
              "0  1    PAN  Pay-Subs&Comm_P18-49  ...      06:00  60 minute(s)       Morning\n",
              "1  2    PAN  Pay-Subs&Comm_P18-49  ...      07:00  60 minute(s)       Morning\n",
              "2  3    PAN  Pay-Subs&Comm_P18-49  ...      08:00  60 minute(s)       Morning\n",
              "3  4    PAN  Pay-Subs&Comm_P18-49  ...      09:00  60 minute(s)       Morning\n",
              "4  5    PAN  Pay-Subs&Comm_P18-49  ...      10:00  60 minute(s)       Morning\n",
              "\n",
              "[5 rows x 10 columns]"
            ]
          },
          "metadata": {
            "tags": []
          },
          "execution_count": 11
        }
      ]
    },
    {
      "cell_type": "code",
      "metadata": {
        "id": "4ZEXkIHTXud7",
        "colab_type": "code",
        "outputId": "981c6845-4796-4e06-a88c-c028b665ab68",
        "colab": {
          "base_uri": "https://localhost:8080/",
          "height": 34
        }
      },
      "source": [
        "full_df.shape\n",
        "\n",
        "# this should say 10 columns"
      ],
      "execution_count": 0,
      "outputs": [
        {
          "output_type": "execute_result",
          "data": {
            "text/plain": [
              "(36600000, 10)"
            ]
          },
          "metadata": {
            "tags": []
          },
          "execution_count": 12
        }
      ]
    },
    {
      "cell_type": "code",
      "metadata": {
        "id": "0wMpaih8o3f1",
        "colab_type": "code",
        "colab": {}
      },
      "source": [
        "from google.colab import files\n",
        "\n",
        "# e.g. save pandas output as csv\n",
        "full_df.to_csv('P&G Mexico Analysis.csv', index=False)\n",
        "\n",
        "files.download('P&G Mexico Analysis.csv')"
      ],
      "execution_count": 0,
      "outputs": []
    },
    {
      "cell_type": "code",
      "metadata": {
        "id": "ERE3-5U9Z8ly",
        "colab_type": "code",
        "colab": {}
      },
      "source": [
        "full_df.to_csv('P&G Mexico Analysis.csv', index=False)\n",
        "\n",
        "drive_service = build('drive', 'v3')\n",
        "\n",
        "def save_file_to_drive(name, path):\n",
        "    file_metadata = {'name': name, 'mimeType': 'application/octet-stream'}\n",
        "      \n",
        "    media = MediaFileUpload(path, mimetype='application/octet-stream', resumable=True)\n",
        "\n",
        "    created = drive_service.files().create(body=file_metadata, media_body=media, fields='id').execute()\n",
        "\n",
        "    print('File ID: {}'.format(created.get('id')))\n",
        "\n",
        "    return created"
      ],
      "execution_count": 0,
      "outputs": []
    },
    {
      "cell_type": "code",
      "metadata": {
        "id": "nedrINnIaU9v",
        "colab_type": "code",
        "outputId": "aa57ee83-1185-415f-9ecd-a07af212c46c",
        "colab": {
          "base_uri": "https://localhost:8080/",
          "height": 51
        }
      },
      "source": [
        "save_file_to_drive('P&G Mexico Analysis.csv', 'P&G Mexico Analysis.csv')"
      ],
      "execution_count": 0,
      "outputs": [
        {
          "output_type": "stream",
          "text": [
            "File ID: 1AaLzcR7I9PNrfILxCoDdZouDXSd8P7wM\n"
          ],
          "name": "stdout"
        },
        {
          "output_type": "execute_result",
          "data": {
            "text/plain": [
              "{'id': '1AaLzcR7I9PNrfILxCoDdZouDXSd8P7wM'}"
            ]
          },
          "metadata": {
            "tags": []
          },
          "execution_count": 14
        }
      ]
    }
  ]
}